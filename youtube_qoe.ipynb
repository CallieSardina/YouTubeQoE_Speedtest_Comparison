{
  "cells": [
    {
      "cell_type": "code",
      "source": [
        "!pip3 install netunicorn"
      ],
      "metadata": {
        "colab": {
          "base_uri": "https://localhost:8080/"
        },
        "id": "MCXKb_51_drL",
        "outputId": "461f0f01-d78a-41ed-c7a3-705e1eef8249"
      },
      "id": "MCXKb_51_drL",
      "execution_count": 213,
      "outputs": [
        {
          "output_type": "stream",
          "name": "stdout",
          "text": [
            "Requirement already satisfied: netunicorn in /usr/local/lib/python3.10/dist-packages (1.0.0)\n",
            "Requirement already satisfied: netunicorn-base in /usr/local/lib/python3.10/dist-packages (from netunicorn) (0.4.0)\n",
            "Requirement already satisfied: netunicorn-client in /usr/local/lib/python3.10/dist-packages (from netunicorn) (0.4.0)\n",
            "Requirement already satisfied: netunicorn-library in /usr/local/lib/python3.10/dist-packages (from netunicorn) (0.4.1)\n",
            "Requirement already satisfied: returns>=0.20.0 in /usr/local/lib/python3.10/dist-packages (from netunicorn-base->netunicorn) (0.22.0)\n",
            "Requirement already satisfied: typing-extensions in /usr/local/lib/python3.10/dist-packages (from netunicorn-base->netunicorn) (4.12.2)\n",
            "Requirement already satisfied: pydantic>=2.0.0 in /usr/local/lib/python3.10/dist-packages (from netunicorn-base->netunicorn) (2.7.3)\n",
            "Requirement already satisfied: networkx in /usr/local/lib/python3.10/dist-packages (from netunicorn-base->netunicorn) (3.3)\n",
            "Requirement already satisfied: cloudpickle in /usr/local/lib/python3.10/dist-packages (from netunicorn-client->netunicorn) (2.2.1)\n",
            "Requirement already satisfied: requests in /usr/local/lib/python3.10/dist-packages (from netunicorn-client->netunicorn) (2.31.0)\n",
            "Requirement already satisfied: annotated-types>=0.4.0 in /usr/local/lib/python3.10/dist-packages (from pydantic>=2.0.0->netunicorn-base->netunicorn) (0.7.0)\n",
            "Requirement already satisfied: pydantic-core==2.18.4 in /usr/local/lib/python3.10/dist-packages (from pydantic>=2.0.0->netunicorn-base->netunicorn) (2.18.4)\n",
            "Requirement already satisfied: charset-normalizer<4,>=2 in /usr/local/lib/python3.10/dist-packages (from requests->netunicorn-client->netunicorn) (3.3.2)\n",
            "Requirement already satisfied: idna<4,>=2.5 in /usr/local/lib/python3.10/dist-packages (from requests->netunicorn-client->netunicorn) (3.7)\n",
            "Requirement already satisfied: urllib3<3,>=1.21.1 in /usr/local/lib/python3.10/dist-packages (from requests->netunicorn-client->netunicorn) (2.0.7)\n",
            "Requirement already satisfied: certifi>=2017.4.17 in /usr/local/lib/python3.10/dist-packages (from requests->netunicorn-client->netunicorn) (2024.6.2)\n"
          ]
        }
      ]
    },
    {
      "cell_type": "code",
      "source": [
        "!pip install selenium"
      ],
      "metadata": {
        "colab": {
          "base_uri": "https://localhost:8080/"
        },
        "id": "jhA2EEbV_r-D",
        "outputId": "a167e070-57bf-4fe7-e6a2-52605ee23a26"
      },
      "id": "jhA2EEbV_r-D",
      "execution_count": 214,
      "outputs": [
        {
          "output_type": "stream",
          "name": "stdout",
          "text": [
            "Requirement already satisfied: selenium in /usr/local/lib/python3.10/dist-packages (4.21.0)\n",
            "Requirement already satisfied: urllib3[socks]<3,>=1.26 in /usr/local/lib/python3.10/dist-packages (from selenium) (2.0.7)\n",
            "Requirement already satisfied: trio~=0.17 in /usr/local/lib/python3.10/dist-packages (from selenium) (0.25.1)\n",
            "Requirement already satisfied: trio-websocket~=0.9 in /usr/local/lib/python3.10/dist-packages (from selenium) (0.11.1)\n",
            "Requirement already satisfied: certifi>=2021.10.8 in /usr/local/lib/python3.10/dist-packages (from selenium) (2024.6.2)\n",
            "Requirement already satisfied: typing_extensions>=4.9.0 in /usr/local/lib/python3.10/dist-packages (from selenium) (4.12.2)\n",
            "Requirement already satisfied: attrs>=23.2.0 in /usr/local/lib/python3.10/dist-packages (from trio~=0.17->selenium) (23.2.0)\n",
            "Requirement already satisfied: sortedcontainers in /usr/local/lib/python3.10/dist-packages (from trio~=0.17->selenium) (2.4.0)\n",
            "Requirement already satisfied: idna in /usr/local/lib/python3.10/dist-packages (from trio~=0.17->selenium) (3.7)\n",
            "Requirement already satisfied: outcome in /usr/local/lib/python3.10/dist-packages (from trio~=0.17->selenium) (1.3.0.post0)\n",
            "Requirement already satisfied: sniffio>=1.3.0 in /usr/local/lib/python3.10/dist-packages (from trio~=0.17->selenium) (1.3.1)\n",
            "Requirement already satisfied: exceptiongroup in /usr/local/lib/python3.10/dist-packages (from trio~=0.17->selenium) (1.2.1)\n",
            "Requirement already satisfied: wsproto>=0.14 in /usr/local/lib/python3.10/dist-packages (from trio-websocket~=0.9->selenium) (1.2.0)\n",
            "Requirement already satisfied: pysocks!=1.5.7,<2.0,>=1.5.6 in /usr/local/lib/python3.10/dist-packages (from urllib3[socks]<3,>=1.26->selenium) (1.7.1)\n",
            "Requirement already satisfied: h11<1,>=0.9.0 in /usr/local/lib/python3.10/dist-packages (from wsproto>=0.14->trio-websocket~=0.9->selenium) (0.14.0)\n"
          ]
        }
      ]
    },
    {
      "cell_type": "code",
      "execution_count": 215,
      "id": "3bfb2e24-8b42-44c1-b07f-7ab7c9258208",
      "metadata": {
        "tags": [],
        "id": "3bfb2e24-8b42-44c1-b07f-7ab7c9258208"
      },
      "outputs": [],
      "source": [
        "import os\n",
        "import time\n",
        "\n",
        "from netunicorn.client.remote import RemoteClient, RemoteClientException\n",
        "from netunicorn.base import Experiment, ExperimentStatus, Pipeline, Task\n",
        "\n",
        "from returns.pipeline import is_successful\n",
        "from returns.result import Result, Success, Failure\n",
        "\n",
        "from typing import List, Optional\n",
        "import random\n",
        "import subprocess\n",
        "import socket\n",
        "import signal\n",
        "import json\n",
        "import datetime\n",
        "\n",
        "from selenium import webdriver\n",
        "from selenium.common.exceptions import NoSuchElementException\n",
        "from selenium.webdriver.chrome.options import Options\n",
        "from selenium.webdriver.chrome.service import Service\n",
        "from selenium.webdriver.common.by import By\n",
        "from selenium.webdriver.common.keys import Keys\n",
        "\n",
        "from google.cloud import storage"
      ]
    },
    {
      "cell_type": "markdown",
      "id": "1df69648",
      "metadata": {
        "id": "1df69648"
      },
      "source": [
        "env config"
      ]
    },
    {
      "cell_type": "code",
      "execution_count": 216,
      "id": "87e6293c-4841-454a-9d9c-e7ad62ee847a",
      "metadata": {
        "tags": [],
        "colab": {
          "base_uri": "https://localhost:8080/"
        },
        "id": "87e6293c-4841-454a-9d9c-e7ad62ee847a",
        "outputId": "c37e1e11-1190-4355-ad0d-db46663ab22d"
      },
      "outputs": [
        {
          "output_type": "execute_result",
          "data": {
            "text/plain": [
              "True"
            ]
          },
          "metadata": {},
          "execution_count": 216
        }
      ],
      "source": [
        "# API connection endpoint\n",
        "NETUNICORN_ENDPOINT = 'https://pinot.cs.ucsb.edu/netunicorn/'\n",
        "# user login\n",
        "NETUNICORN_LOGIN = 'egalanua'\n",
        "# user password\n",
        "NETUNICORN_PASSWORD = 'nZ309yM5MgZi'\n",
        "\n",
        "client = RemoteClient(endpoint=NETUNICORN_ENDPOINT, login=NETUNICORN_LOGIN, password=NETUNICORN_PASSWORD)\n",
        "client.healthcheck()"
      ]
    },
    {
      "cell_type": "code",
      "execution_count": 217,
      "id": "6167c041-adbf-41cf-8db2-ca56595c5243",
      "metadata": {
        "colab": {
          "base_uri": "https://localhost:8080/"
        },
        "id": "6167c041-adbf-41cf-8db2-ca56595c5243",
        "outputId": "1040bd5a-6109-492e-cc75-af191fa76cde"
      },
      "outputs": [
        {
          "output_type": "stream",
          "name": "stdout",
          "text": [
            "{'location': '', 'osarch': 'arm64', 'kernel': 'Linux', 'ipv4': ['127.0.0.1', '169.231.118.94', '172.17.0.1', '172.30.0.1', '192.168.99.42'], 'network_type': '', 'ip_interfaces': {'lo': ['127.0.0.1', '::1'], 'eth0': [], 'wlan0': ['169.231.118.94', 'fe80::48ca:18ad:f52b:7ae5'], 'docker0': ['172.17.0.1', 'fe80::42:4dff:fe5f:3a77'], 'gre0': [], 'gretap0': [], 'erspan0': [], 'gre1': ['192.168.99.42', 'fe80::a9e7:765e'], 'br-40694cf52e79': ['172.30.0.1', 'fe80::42:faff:fe9a:445c']}, 'hwaddr_interfaces': {'lo': '00:00:00:00:00:00', 'eth0': 'e4:5f:01:a7:b1:c1', 'wlan0': 'e4:5f:01:a7:b1:c2', 'docker0': '02:42:4d:5f:3a:77', 'gre0': '0.0.0.0', 'gretap0': '00:00:00:00:00:00', 'erspan0': '00:00:00:00:00:00', 'gre1': '169.231.118.94', 'br-40694cf52e79': '02:42:fa:9a:44:5c'}, 'netunicorn-access-tags': ['raspi', '293n1'], 'connector': 'salt'}\n",
            "Architecture.LINUX_ARM64\n"
          ]
        },
        {
          "output_type": "execute_result",
          "data": {
            "text/plain": [
              "[raspi-e4:5f:01:a7:b1:c1]"
            ]
          },
          "metadata": {},
          "execution_count": 217
        }
      ],
      "source": [
        "nodes = client.get_nodes()\n",
        "\n",
        "# # switch for showing our infrastructure vs you doing it locally on other nodes\n",
        "# if os.environ.get('NETUNICORN_ENDPOINT', 'http://localhost:26611') != 'http://localhost:26611':\n",
        "#     working_nodes = nodes.filter(lambda node: node.name.startswith(\"raspi\")).take(5)\n",
        "# else:\n",
        "#     working_nodes = nodes.take(1)\n",
        "#     # working_nodes = nodes.take(2)\n",
        "#     print(working_nodes[0].properties)  # different properties that could be used for filtering\n",
        "#     print(working_nodes[0].architecture)\n",
        "#     # working_nodes = nodes.filter(lambda x : \"AMD\" in x.name ).take(1)\n",
        "working_nodes = nodes.filter(lambda node: node.name.startswith(\"raspi\")).take(1)\n",
        "print(working_nodes[0].properties)\n",
        "print(working_nodes[0].architecture)\n",
        "working_nodes"
      ]
    },
    {
      "cell_type": "markdown",
      "id": "a4c86de8",
      "metadata": {
        "id": "a4c86de8"
      },
      "source": [
        "define pipeline"
      ]
    },
    {
      "cell_type": "code",
      "execution_count": 218,
      "id": "83be3025",
      "metadata": {
        "id": "83be3025"
      },
      "outputs": [],
      "source": [
        "def generate_script(server_address, server_port, report_time):\n",
        "    return f\"\"\"\n",
        "\"use strict\";\n",
        "/*jshint esversion: 9 */\n",
        "/* jshint -W097 */\n",
        "\n",
        "// default url where report server is located\n",
        "const quality_change_url = \"https://{server_address}:{server_port}/quality\";\n",
        "const state_change_url = \"https://{server_address}:{server_port}/state\";\n",
        "const stats_url = \"https://{server_address}:{server_port}/report\";\n",
        "const report_time = {report_time};\n",
        "\n",
        "function postReport(url, jsonData) {{\n",
        "    console.debug(\"Posting report to\", url); // Logging URL\n",
        "    console.debug(\"Data:\", jsonData); //\n",
        "    // this function sends json data to report server\n",
        "    let xhr = new XMLHttpRequest();\n",
        "    xhr.open(\"POST\", url, true);\n",
        "    xhr.setRequestHeader(\"Content-Type\", \"application/json; charset=utf-8\");\n",
        "    xhr.send(JSON.stringify(jsonData));\n",
        "}}\n",
        "\n",
        "function onStateChange(event) {{\n",
        "    console.debug(\"State changed to:\", event);\n",
        "    // this function catch player state changes and report them\n",
        "    postReport(\n",
        "        state_change_url,\n",
        "        {{\n",
        "            video_id_and_cpn: player.getStatsForNerds().video_id_and_cpn,\n",
        "            fraction: player.getVideoLoadedFraction(),\n",
        "            current_time: player.getCurrentTime(),\n",
        "            new_state: event,\n",
        "        }}\n",
        "    );\n",
        "}}\n",
        "\n",
        "function onPlaybackQualityChange(event) {{\n",
        "    console.debug(\"Playback quality changed to:\", event);\n",
        "    // this function post quality changes\n",
        "    postReport(\n",
        "        quality_change_url,\n",
        "        {{\n",
        "            video_id_and_cpn: player.getStatsForNerds().video_id_and_cpn,\n",
        "            fraction: player.getVideoLoadedFraction(),\n",
        "            current_time: player.getCurrentTime(),\n",
        "            new_quality: event,\n",
        "        }}\n",
        "    );\n",
        "}}\n",
        "\n",
        "function sendStats() {{\n",
        "    console.debug(\"Sending stats...\");\n",
        "    // this function is executed every X ms and reports current statistics\n",
        "    let stats_for_nerds = player.getStatsForNerds();\n",
        "    stats_for_nerds.playback_fraction = player.getVideoLoadedFraction();\n",
        "    stats_for_nerds.current_time = player.getCurrentTime();\n",
        "    console.debug(\"Current stats:\", stats_for_nerds); // Log current stats\n",
        "\n",
        "    postReport(stats_url, stats_for_nerds);\n",
        "}}\n",
        "\n",
        "// wait until player is ready\n",
        "while (!document.getElementById(\"movie_player\")) {{\n",
        "    (async () => {{\n",
        "            console.debug(\"Waiting for player to be ready...\");\n",
        "\n",
        "        await new Promise(r => setTimeout(r, 100));\n",
        "    }})();\n",
        "}}\n",
        "\n",
        "// get the player\n",
        "let player = document.getElementById(\"movie_player\");\n",
        "\n",
        "console.log(\"Player found:\", player); // Log player element found\n",
        "\n",
        "// register callbacks on state and quality changes\n",
        "player.addEventListener(\"onStateChange\", onStateChange);\n",
        "player.addEventListener(\"onPlaybackQualityChange\", onPlaybackQualityChange);\n",
        "\n",
        "// report stats for nerds every X ms\n",
        "setInterval(sendStats, report_time);\n",
        "\"\"\""
      ]
    },
    {
      "cell_type": "code",
      "execution_count": 219,
      "id": "bee9838f-e8fc-49e7-b39c-33951bd9ce25",
      "metadata": {
        "tags": [],
        "id": "bee9838f-e8fc-49e7-b39c-33951bd9ce25"
      },
      "outputs": [],
      "source": [
        "class DebugWatchYouTubeVideoTask(Task):\n",
        "    def __init__(\n",
        "        self, video_url, duration, quality, qoe_server_address, qoe_server_port, report_time\n",
        "    ):\n",
        "        super().__init__()\n",
        "        self.video_url = video_url\n",
        "        self.duration = duration\n",
        "        self.quality = quality\n",
        "        self.qoe_server_address = qoe_server_address\n",
        "        self.qoe_server_port = qoe_server_port\n",
        "        self.report_time = report_time\n",
        "\n",
        "    def run(self):\n",
        "        try:\n",
        "            qoe_extension_path = os.path.join(\".\", \"extensions\", \"qoe_extension\")\n",
        "\n",
        "            script_js_path = os.path.join(qoe_extension_path, \"script.js\")\n",
        "            with open(script_js_path, \"w\") as f:\n",
        "                f.write(generate_script(self.qoe_server_address, self.qoe_server_port, self.report_time))\n",
        "\n",
        "            result = self.debug_watch(self.video_url, self.duration, self.quality, qoe_extension_path)\n",
        "\n",
        "            return result\n",
        "        except Exception as e:\n",
        "            print(f\"Error occurred: {e}\")\n",
        "            return Failure(f\"Error occurred: {e}\")\n",
        "\n",
        "    def extract_qualities(text: str) -> List[int]:\n",
        "        # Because of how youtube quality menu created\n",
        "        lines = text.split(\"\\n\")[1:-1]\n",
        "\n",
        "        nums = [int(s[: s.find(\"p\")]) for s in lines]\n",
        "        return nums\n",
        "\n",
        "\n",
        "    def find_closest(self, options: List[int], goal: int) -> int:\n",
        "        sorted_options = sorted(options)\n",
        "        if not sorted_options:\n",
        "            raise Exception(\"Youtube parsing error: quality menu block is empty\")\n",
        "\n",
        "        opt = 0\n",
        "        for ind, opt in enumerate(sorted_options):\n",
        "            if opt >= goal:\n",
        "                if ind > 0 and (goal - sorted_options[ind - 1] < opt - goal):\n",
        "                    return options.index(sorted_options[ind - 1])\n",
        "                else:\n",
        "                    return options.index(opt)\n",
        "        return options.index(opt)\n",
        "\n",
        "    def select_quality(self, driver: webdriver.Chrome, quality: int) -> None:\n",
        "        settings = driver.find_element(\n",
        "            By.CLASS_NAME, \"ytp-settings-button\"\n",
        "        )  # .find_elements_by_class_name(\"ytp-settings-button\")\n",
        "        settings.click()\n",
        "        menu = driver.find_elements(By.CLASS_NAME, \"ytp-menuitem\")\n",
        "        menu[3].click()\n",
        "        quality_menu = driver.find_element(By.CLASS_NAME, \"ytp-quality-menu\")\n",
        "        options = self.extract_qualities(quality_menu.text)\n",
        "        index_to_select = (\n",
        "            self.find_closest(options, quality) + 1\n",
        "        )  # Because we cutted first \"go back to menu\" option\n",
        "        menu = driver.find_elements(By.CLASS_NAME, \"ytp-menuitem\")\n",
        "        menu[index_to_select].click()\n",
        "\n",
        "    def debug_watch(self, url: str, duration: Optional[int] = 100, quality: Optional[int] = None, Statsfornerds_Path: str = None) -> Result[str, str]:\n",
        "\n",
        "        # Display size is random popular screen size\n",
        "        display_number = random.randint(100, 500)\n",
        "        xvfb_process = subprocess.Popen(\n",
        "            [\"Xvfb\", f\":{display_number}\", \"-screen\", \"0\", \"1920x1080x24\"]\n",
        "        )\n",
        "        os.environ[\"DISPLAY\"] = f\":{display_number}\"\n",
        "\n",
        "        options = Options()\n",
        "\n",
        "        options.add_argument(\"--no-sandbox\")\n",
        "        options.add_argument(\"--disable-gpu\")\n",
        "\n",
        "        options.add_argument(\"--disable-dev-shm-usage\")\n",
        "        options.add_argument(f\"--load-extension={Statsfornerds_Path}\")\n",
        "\n",
        "        options.add_argument(\"--disable-web-security\")\n",
        "        options.add_argument(\"--allow-running-insecure-content\")\n",
        "        options.add_argument(\"--ignore-certificate-errors\")\n",
        "\n",
        "        # logPath = os.path.join(Statsfornerds_Path, 'logfile.log')\n",
        "        # with open(logPath, \"w\") as f:\n",
        "        #     pass\n",
        "        # if not os.path.exists(logPath):\n",
        "        #     print(\"Logpath not exists\")\n",
        "        # else:\n",
        "        #     print(f\"Logpath: {logPath}\")\n",
        "        # options.add_argument(\"--enable-logging\")\n",
        "        # options.add_argument(\"--v=3\")\n",
        "        # options.add_argument(f\"--log-path={logPath}\")\n",
        "\n",
        "        # or press space part\n",
        "        options.add_argument(\"--autoplay-policy=no-user-gesture-required\")\n",
        "\n",
        "        #raspi is 7 hours ahead\n",
        "        desired_time = datetime.datetime(2024, 6, 14, 1, 28, 0)\n",
        "        print(f\"Desired time: {desired_time}\")\n",
        "        current_time = datetime.datetime.now()\n",
        "        print(f\"Current time: {current_time}\")\n",
        "        time_difference = desired_time - current_time\n",
        "        print(f\"Time difference: {time_difference}\")\n",
        "        wait_time_seconds = time_difference.total_seconds()\n",
        "        if wait_time_seconds > 0:\n",
        "            time.sleep(wait_time_seconds)\n",
        "\n",
        "        driver = webdriver.Chrome(service=Service(), options=options)\n",
        "\n",
        "        time.sleep(1)\n",
        "        driver.get(url)\n",
        "        # To make sure we stay on our page (make sure your ad-block extension does\n",
        "        # not load itself as 0 page)\n",
        "        # The problem is that we do not know when the adblock page will be opened,\n",
        "        # so we have to make sure that we done our best to swithced to right window\n",
        "        # and give youtube ~5 secs to load in bad cases\n",
        "\n",
        "        pages = driver.window_handles\n",
        "\n",
        "        i = 0\n",
        "        driver.switch_to.window(pages[i])\n",
        "\n",
        "        # If current is \"not ours\", we know that there is ours, so let's search\n",
        "        while \"youtube\" not in driver.current_url and i < len(pages):\n",
        "            i += 1\n",
        "            driver.switch_to.window(pages[i])\n",
        "\n",
        "        # For bad internet connection case - wait and retry 5 sec\n",
        "        for s in range(5):\n",
        "            try:\n",
        "                driver.switch_to.window(pages[i])\n",
        "                video = driver.find_element(By.ID, \"movie_player\")\n",
        "                break\n",
        "            except NoSuchElementException:\n",
        "                time.sleep(1)\n",
        "        else:\n",
        "            driver.switch_to.window(pages[i])\n",
        "            video = driver.find_element(By.ID, \"movie_player\")\n",
        "\n",
        "        if not (quality is None):\n",
        "            self.select_quality(driver, quality)\n",
        "\n",
        "        # video.send_keys(Keys.SPACE)  # hits space for start if option not availible\n",
        "\n",
        "        if duration is None:\n",
        "            player_status = 1  # Suppose video playing now\n",
        "            while player_status != 0:  # While not stopped - see docs\n",
        "                time.sleep(2)  # Random 2s constant not to check to freq\n",
        "                player_status = driver.execute_script(\n",
        "                    \"return document.getElementById('movie_player').getPlayerState()\"\n",
        "                )\n",
        "            how = \"End of video\"\n",
        "        else:\n",
        "            time.sleep(duration)\n",
        "            # video.send_keys(Keys.SPACE)\n",
        "            how = \"Time limit\"\n",
        "\n",
        "        # print(\"******Getting logs\")\n",
        "        # logs = driver.get_log('browser')\n",
        "        # for log in logs:\n",
        "        #     print(log)\n",
        "\n",
        "        driver.close()\n",
        "        xvfb_process.kill()\n",
        "\n",
        "        return Success(how)"
      ]
    },
    {
      "cell_type": "code",
      "execution_count": 220,
      "id": "6abd3109",
      "metadata": {
        "id": "6abd3109"
      },
      "outputs": [],
      "source": [
        "def generateRunServerFile():\n",
        "    return \"\"\"\n",
        "import uvicorn\n",
        "\n",
        "if __name__ == \"__main__\":\n",
        "    config = uvicorn.Config(\"netunicorn.library.tasks.qoe_youtube.qoe_collector:app\", host=\"0.0.0.0\", port=34543, ssl_keyfile=\"mykey.pem\", ssl_certfile=\"mycert.pem\", log_level=\"warning\")\n",
        "    server = uvicorn.Server(config)\n",
        "    server.run()\n",
        "\"\"\""
      ]
    },
    {
      "cell_type": "code",
      "execution_count": 221,
      "id": "38d9bc3b",
      "metadata": {
        "id": "38d9bc3b"
      },
      "outputs": [],
      "source": [
        "class StartQoECollectionServerTask(Task):\n",
        "    def __init__(self, data_folder):\n",
        "        super().__init__()\n",
        "        self.data_folder = data_folder\n",
        "\n",
        "\n",
        "    def run(self):\n",
        "        try:\n",
        "            # Check and free the port if necessary\n",
        "            port = 34543\n",
        "            with socket.socket(socket.AF_INET, socket.SOCK_STREAM) as s:\n",
        "                if s.connect_ex(('localhost', port)) == 0:\n",
        "                    print(f\"Port {port} is in use. Attempting to kill...\")\n",
        "                    kill_command = f\"lsof -t -i:{port} -sTCP:LISTEN\"\n",
        "                    process = subprocess.run(kill_command, shell=True, capture_output=True, text=True)\n",
        "                    if process.stdout:\n",
        "                        pid = process.stdout.strip()\n",
        "                        os.kill(int(pid), signal.SIGKILL)\n",
        "                        print(f\"Killed process {pid} on port {port}\")\n",
        "                    else:\n",
        "                        print(\"No process to kill.\")\n",
        "\n",
        "            # Write content to run_server.py file\n",
        "            with open(\"run_server.py\", \"w\") as f:\n",
        "                f.write(generateRunServerFile())\n",
        "\n",
        "            # Generate key and cert from openssl\n",
        "            command = \"\"\"\n",
        "openssl req -x509 -nodes -days 365 -newkey rsa:2048 -keyout mykey.pem -out mycert.pem -subj \"/C=US/ST=California/L=Mountain View/O=UCSB/OU=IT Department/CN=www.example.com\"\n",
        "\"\"\"\n",
        "            subprocess.run(command, shell=True)\n",
        "\n",
        "            # Create a folder for QoE data\n",
        "            os.makedirs(self.data_folder, exist_ok=True)\n",
        "\n",
        "            # set export QOE_DATA_FOLDER\n",
        "            os.environ[\"QOE_DATA_FOLDER\"] = self.data_folder\n",
        "\n",
        "            # Run the server\n",
        "            subprocess.Popen([\"python\", \"run_server.py\"])\n",
        "\n",
        "            return Success(\"Server started\")\n",
        "\n",
        "        except Exception as e:\n",
        "            print(f\"Error occurred: {e}\")\n",
        "            return Failure(f\"Error occurred: {e}\")"
      ]
    },
    {
      "cell_type": "code",
      "execution_count": 222,
      "id": "0f9948bc",
      "metadata": {
        "id": "0f9948bc"
      },
      "outputs": [],
      "source": [
        "credentials = { \"\"\"PUT CREDENITALS HERE \"\"\"}"
      ]
    },
    {
      "cell_type": "code",
      "execution_count": 223,
      "id": "f03e1007",
      "metadata": {
        "id": "f03e1007"
      },
      "outputs": [],
      "source": [
        "class uploadAllFilesTask(Task):\n",
        "    def __init__(self, data_folder):\n",
        "        super().__init__()\n",
        "        self.data_folder = data_folder\n",
        "\n",
        "\n",
        "    def upload_blob(self, bucket_name, source_file_name, destination_blob_name):\n",
        "        # Create a client\n",
        "        with open(\"credential.json\", \"w\") as f:\n",
        "            json.dump(credentials, f)\n",
        "        storage_client = storage.Client.from_service_account_json('./credential.json')\n",
        "\n",
        "        # Get the bucket\n",
        "        bucket = storage_client.bucket(bucket_name)\n",
        "        print(f\"Bucket {bucket.name} found.\")\n",
        "        # Create a blob object\n",
        "        blob = bucket.blob(destination_blob_name)\n",
        "        print(f\"Blob {blob.name} created.\")\n",
        "        # Upload the file\n",
        "        blob.upload_from_filename(source_file_name)\n",
        "\n",
        "        print(f\"File {source_file_name} uploaded to {destination_blob_name}.\")\n",
        "\n",
        "    def run(self):\n",
        "        try:\n",
        "            print(f\"Uploading all files from {self.data_folder}...\")\n",
        "            for filename in os.listdir(self.data_folder):\n",
        "                filepath = os.path.join(self.data_folder, filename)\n",
        "                print(filepath)\n",
        "                if os.path.isfile(filepath):\n",
        "                    self.upload_blob(\"qoe_data\", filepath, filename)\n",
        "            return Success(\"Successfully uploaded all files\")\n",
        "        except Exception as e:\n",
        "            print(f\"Error occurred: {e}\")\n",
        "            return Failure(f\"Error occurred: {e}\")"
      ]
    },
    {
      "cell_type": "code",
      "execution_count": 224,
      "id": "aa75cc85",
      "metadata": {
        "id": "aa75cc85"
      },
      "outputs": [],
      "source": [
        "YouTube_URL = \"https://www.youtube.com/watch?v=r0u5URS3VXE\""
      ]
    },
    {
      "cell_type": "code",
      "execution_count": 225,
      "id": "faabcae1",
      "metadata": {
        "id": "faabcae1"
      },
      "outputs": [],
      "source": [
        "pipeline = (\n",
        "    Pipeline()\n",
        "    .then(StartQoECollectionServerTask(data_folder=\"/qoe_data\"))\n",
        "    .then(DebugWatchYouTubeVideoTask(video_url = YouTube_URL, duration=30, report_time=1000, quality=None, qoe_server_address=\"0.0.0.0\", qoe_server_port=34543))\n",
        "    .then(uploadAllFilesTask(data_folder=\"/qoe_data\"))\n",
        ")"
      ]
    },
    {
      "cell_type": "markdown",
      "id": "97883435",
      "metadata": {
        "id": "97883435"
      },
      "source": [
        "begin experiment"
      ]
    },
    {
      "cell_type": "code",
      "execution_count": 226,
      "id": "da1465ef-fef6-4be9-9446-993acf524e80",
      "metadata": {
        "colab": {
          "base_uri": "https://localhost:8080/"
        },
        "id": "da1465ef-fef6-4be9-9446-993acf524e80",
        "outputId": "e71dcb69-ab0a-4259-d454-8d4dfd30fb44"
      },
      "outputs": [
        {
          "output_type": "execute_result",
          "data": {
            "text/plain": [
              " - Deployment: Node=raspi-e4:5f:01:a7:b1:c1, executor_id=, prepared=False, error=None"
            ]
          },
          "metadata": {},
          "execution_count": 226
        }
      ],
      "source": [
        "# Creating the experiment\n",
        "experiment = Experiment().map(pipeline, working_nodes)\n",
        "experiment"
      ]
    },
    {
      "cell_type": "code",
      "execution_count": 227,
      "id": "9e4d4678-4df9-4ea0-a65b-c31bb144b60c",
      "metadata": {
        "tags": [],
        "id": "9e4d4678-4df9-4ea0-a65b-c31bb144b60c"
      },
      "outputs": [],
      "source": [
        "from netunicorn.base import DockerImage\n",
        "for deployment in experiment:\n",
        "    deployment.environment_definition = DockerImage(image='sakura61777/netunicorn_local_arm:v13') # Linux-ARM64 architecture with chromium installed"
      ]
    },
    {
      "cell_type": "code",
      "execution_count": 228,
      "id": "564930b5-d394-4eff-ac3b-f9fcdb0f79a7",
      "metadata": {
        "id": "564930b5-d394-4eff-ac3b-f9fcdb0f79a7"
      },
      "outputs": [],
      "source": [
        "experiment_label = \"video_qoe_test_new6\""
      ]
    },
    {
      "cell_type": "code",
      "execution_count": 229,
      "id": "0dd12a3e-208b-49ae-bb2d-742815c48180",
      "metadata": {
        "colab": {
          "base_uri": "https://localhost:8080/"
        },
        "id": "0dd12a3e-208b-49ae-bb2d-742815c48180",
        "outputId": "5ff2353c-5513-42d7-d308-2582ad74f21f"
      },
      "outputs": [
        {
          "output_type": "stream",
          "name": "stdout",
          "text": [
            "ExperimentStatus.PREPARING\n",
            "ExperimentStatus.PREPARING\n",
            "ExperimentStatus.PREPARING\n",
            "ExperimentStatus.PREPARING\n",
            "ExperimentStatus.PREPARING\n",
            "ExperimentStatus.PREPARING\n",
            "ExperimentStatus.PREPARING\n",
            "ExperimentStatus.PREPARING\n",
            "ExperimentStatus.PREPARING\n",
            "ExperimentStatus.PREPARING\n",
            "ExperimentStatus.PREPARING\n",
            "ExperimentStatus.PREPARING\n",
            "ExperimentStatus.PREPARING\n",
            "ExperimentStatus.PREPARING\n",
            "ExperimentStatus.PREPARING\n",
            "ExperimentStatus.PREPARING\n",
            "ExperimentStatus.PREPARING\n",
            "ExperimentStatus.PREPARING\n",
            "ExperimentStatus.PREPARING\n",
            "ExperimentStatus.PREPARING\n",
            "ExperimentStatus.PREPARING\n",
            "ExperimentStatus.PREPARING\n",
            "ExperimentStatus.PREPARING\n",
            "ExperimentStatus.PREPARING\n",
            "ExperimentStatus.PREPARING\n",
            "ExperimentStatus.PREPARING\n",
            "ExperimentStatus.PREPARING\n",
            "ExperimentStatus.PREPARING\n",
            "ExperimentStatus.PREPARING\n",
            "ExperimentStatus.PREPARING\n",
            "ExperimentStatus.PREPARING\n",
            "ExperimentStatus.PREPARING\n",
            "ExperimentStatus.PREPARING\n",
            "ExperimentStatus.PREPARING\n",
            "ExperimentStatus.PREPARING\n",
            "ExperimentStatus.PREPARING\n",
            "ExperimentStatus.PREPARING\n",
            "ExperimentStatus.PREPARING\n",
            "ExperimentStatus.PREPARING\n",
            "ExperimentStatus.READY\n"
          ]
        }
      ],
      "source": [
        "try:\n",
        "    client.delete_experiment(experiment_label)\n",
        "except RemoteClientException:\n",
        "    pass\n",
        "\n",
        "client.prepare_experiment(experiment, experiment_label)\n",
        "\n",
        "while True:\n",
        "    info = client.get_experiment_status(experiment_label)\n",
        "    print(info.status)\n",
        "    if info.status == ExperimentStatus.READY:\n",
        "        break\n",
        "    time.sleep(2)"
      ]
    },
    {
      "cell_type": "code",
      "execution_count": 230,
      "id": "ceaa4766-7d3a-4b85-8872-d29cebfed0fa",
      "metadata": {
        "tags": [],
        "colab": {
          "base_uri": "https://localhost:8080/"
        },
        "id": "ceaa4766-7d3a-4b85-8872-d29cebfed0fa",
        "outputId": "024c3f6f-f270-496f-c99a-ede1e7773b8e"
      },
      "outputs": [
        {
          "output_type": "stream",
          "name": "stdout",
          "text": [
            "Prepared: True, error: None\n"
          ]
        }
      ],
      "source": [
        "for deployment in client.get_experiment_status(experiment_label).experiment:\n",
        "    print(f\"Prepared: {deployment.prepared}, error: {deployment.error}\")"
      ]
    },
    {
      "cell_type": "code",
      "execution_count": 231,
      "id": "38418eee-2c51-410e-b01d-bfa069bea2c8",
      "metadata": {
        "colab": {
          "base_uri": "https://localhost:8080/"
        },
        "id": "38418eee-2c51-410e-b01d-bfa069bea2c8",
        "outputId": "1f290a2d-eb67-4e3b-c9ab-4a09198f4fd7"
      },
      "outputs": [
        {
          "output_type": "stream",
          "name": "stdout",
          "text": [
            "ExperimentStatus.RUNNING\n",
            "ExperimentStatus.RUNNING\n",
            "ExperimentStatus.RUNNING\n",
            "ExperimentStatus.RUNNING\n",
            "ExperimentStatus.RUNNING\n",
            "ExperimentStatus.RUNNING\n",
            "ExperimentStatus.RUNNING\n",
            "ExperimentStatus.RUNNING\n",
            "ExperimentStatus.RUNNING\n",
            "ExperimentStatus.RUNNING\n",
            "ExperimentStatus.RUNNING\n",
            "ExperimentStatus.RUNNING\n",
            "ExperimentStatus.RUNNING\n",
            "ExperimentStatus.RUNNING\n",
            "ExperimentStatus.RUNNING\n",
            "ExperimentStatus.RUNNING\n",
            "ExperimentStatus.RUNNING\n",
            "ExperimentStatus.RUNNING\n",
            "ExperimentStatus.RUNNING\n",
            "ExperimentStatus.RUNNING\n",
            "ExperimentStatus.RUNNING\n",
            "ExperimentStatus.RUNNING\n",
            "ExperimentStatus.RUNNING\n",
            "ExperimentStatus.RUNNING\n",
            "ExperimentStatus.RUNNING\n",
            "ExperimentStatus.RUNNING\n",
            "ExperimentStatus.RUNNING\n",
            "ExperimentStatus.RUNNING\n",
            "ExperimentStatus.RUNNING\n",
            "ExperimentStatus.RUNNING\n",
            "ExperimentStatus.RUNNING\n",
            "ExperimentStatus.RUNNING\n",
            "ExperimentStatus.RUNNING\n",
            "ExperimentStatus.RUNNING\n",
            "ExperimentStatus.RUNNING\n",
            "ExperimentStatus.RUNNING\n",
            "ExperimentStatus.RUNNING\n",
            "ExperimentStatus.RUNNING\n",
            "ExperimentStatus.RUNNING\n",
            "ExperimentStatus.RUNNING\n",
            "ExperimentStatus.FINISHED\n"
          ]
        }
      ],
      "source": [
        "client.start_execution(experiment_label)\n",
        "\n",
        "while True:\n",
        "    info = client.get_experiment_status(experiment_label)\n",
        "    print(info.status)\n",
        "    if info.status != ExperimentStatus.RUNNING:\n",
        "        break\n",
        "    time.sleep(2)"
      ]
    },
    {
      "cell_type": "code",
      "execution_count": 232,
      "id": "274548bf-88f1-4e37-a6c8-e80699002891",
      "metadata": {
        "tags": [],
        "colab": {
          "base_uri": "https://localhost:8080/"
        },
        "id": "274548bf-88f1-4e37-a6c8-e80699002891",
        "outputId": "8e179fb5-ead7-41a1-e391-cb6d463b3079"
      },
      "outputs": [
        {
          "output_type": "stream",
          "name": "stdout",
          "text": [
            "Node name: raspi-e4:5f:01:a7:b1:c1\n",
            "Error: None\n",
            "Result is: <class 'returns.result.Success'>\n",
            "Result: <Success: defaultdict(<class 'list'>, {'4ac7b2bd-ba7f-4c3c-805f-a161e26d7147': [<Success: Server started>], '19aa23ee-b9a3-406c-be43-52c84d985714': [<Success: Time limit>], '56df952e-84b7-4b4b-bfe3-64168763893e': [<Success: Successfully uploaded all files>]})>\n",
            "4ac7b2bd-ba7f-4c3c-805f-a161e26d7147: [<Success: Server started>]\n",
            "19aa23ee-b9a3-406c-be43-52c84d985714: [<Success: Time limit>]\n",
            "56df952e-84b7-4b4b-bfe3-64168763893e: [<Success: Successfully uploaded all files>]\n",
            "Parsed configuration: Gateway located on https://pinot.cs.ucsb.edu/netunicorn/gateway\n",
            "Current directory: /\n",
            "Successfully received the execution graph.\n",
            "Desired time: 2024-06-14 01:28:00\n",
            "Current time: 2024-06-14 18:01:36.375047\n",
            "Time difference: -1 day, 7:26:23.624953\n",
            "Uploading all files from /qoe_data...\n",
            "/qoe_data/report_r0u5URS3VXE_TNRQ_0V1R_R4HZ_85CG_1N0G.txt\n",
            "Bucket qoe_data found.\n",
            "Blob report_r0u5URS3VXE_TNRQ_0V1R_R4HZ_85CG_1N0G.txt created.\n",
            "File /qoe_data/report_r0u5URS3VXE_TNRQ_0V1R_R4HZ_85CG_1N0G.txt uploaded to report_r0u5URS3VXE_TNRQ_0V1R_R4HZ_85CG_1N0G.txt.\n",
            "/qoe_data/event_r0u5URS3VXE_TNRQ_0V1R_R4HZ_85CG_1N0G.txt\n",
            "Bucket qoe_data found.\n",
            "Blob event_r0u5URS3VXE_TNRQ_0V1R_R4HZ_85CG_1N0G.txt created.\n",
            "File /qoe_data/event_r0u5URS3VXE_TNRQ_0V1R_R4HZ_85CG_1N0G.txt uploaded to event_r0u5URS3VXE_TNRQ_0V1R_R4HZ_85CG_1N0G.txt.\n",
            "Execution is finished, start reporting results.\n",
            "\n"
          ]
        }
      ],
      "source": [
        "for report in info.execution_result:\n",
        "    print(f\"Node name: {report.node.name}\")\n",
        "    print(f\"Error: {report.error}\")\n",
        "\n",
        "    result, log = report.result  # report stores results of execution and corresponding log\n",
        "\n",
        "    # result is a returns.result.Result object, could be Success of Failure\n",
        "    # or None is error occured during execution\n",
        "\n",
        "    print(f\"Result is: {type(result)}\")\n",
        "    print(f\"Result: {result}\")\n",
        "\n",
        "    if isinstance(result, Result):\n",
        "        data = result.unwrap() if is_successful(result) else result.failure()\n",
        "        for key, value in data.items():\n",
        "            print(f\"{key}: {value}\")\n",
        "\n",
        "    # we also can explore logs\n",
        "    for line in log:\n",
        "        print(line.strip())\n",
        "    print()"
      ]
    },
    {
      "cell_type": "markdown",
      "id": "486315d3",
      "metadata": {
        "id": "486315d3"
      },
      "source": []
    },
    {
      "cell_type": "markdown",
      "id": "4c4c01da",
      "metadata": {
        "id": "4c4c01da"
      },
      "source": []
    }
  ],
  "metadata": {
    "kernelspec": {
      "display_name": "Python 3 (ipykernel)",
      "language": "python",
      "name": "python3"
    },
    "language_info": {
      "codemirror_mode": {
        "name": "ipython",
        "version": 3
      },
      "file_extension": ".py",
      "mimetype": "text/x-python",
      "name": "python",
      "nbconvert_exporter": "python",
      "pygments_lexer": "ipython3",
      "version": "3.10.9"
    },
    "colab": {
      "provenance": []
    }
  },
  "nbformat": 4,
  "nbformat_minor": 5
}