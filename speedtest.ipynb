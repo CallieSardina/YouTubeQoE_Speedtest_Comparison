{
 "cells": [
  {
   "cell_type": "markdown",
   "metadata": {},
   "source": [
    "# Basic Ookla Speed Test example\n",
    "\n",
    "In this scenario, we will measure speed test results from Ookle speedtest-cli utility, capture PCAPs during measurements and upload them to a file storage for future access.\n",
    "\n",
    "Let's import base classes and particular tasks that we will use:"
   ]
  },
  {
   "cell_type": "code",
   "execution_count": 15,
   "metadata": {
    "tags": []
   },
   "outputs": [],
   "source": [
    "import sys\n",
    "import os\n",
    "import subprocess\n",
    "import datetime\n",
    "\n",
    "folder_b_path = os.path.abspath('/Users/eshagupta/Desktop/CS293N/netunicorn-library')\n",
    "if folder_b_path not in sys.path:\n",
    "    sys.path.insert(0, folder_b_path)\n",
    "\n",
    "\n",
    "# !pip install netunicorn-base\n",
    "# !pip install netunicorn-client\n",
    "# !pip install netunicorn-library\n",
    "\n",
    "from netunicorn.client.remote import RemoteClient, RemoteClientException\n",
    "from netunicorn.base import Experiment, ExperimentStatus, Pipeline, Failure, Result, Success"
   ]
  },
  {
   "cell_type": "code",
   "execution_count": 16,
   "metadata": {},
   "outputs": [],
   "source": [
    "import time \n",
    "from typing import Dict\n",
    "\n",
    "from netunicorn.base import Architecture, Node, Task, TaskDispatcher\n",
    "#from netunicorn.library.tasks.tasks_utils import subprocess_run\n",
    "\n",
    "# class checkTime(Task):\n",
    "#     requirements = [\"echo 'server 128.111.5.228 minpoll 3 maxpoll 6 iburst prefer' | sudo tee -a /etc/chrony/chrony.conf\",\n",
    "#                     \"sudo service chrony restart\", \"chronyc tracking\"]\n",
    "\n",
    "#     def run(self):\n",
    "#         result = subprocess.run(['chronyc', 'tracking'], stdout=subprocess.PIPE, stderr=subprocess.PIPE, text=True)    \n",
    "\n",
    "#         if stdout:\n",
    "#                 text = stdout.decode(\"utf-8\") + \"\\n\"\n",
    "#         if stderr:\n",
    "#             text += stderr.decode(\"utf-8\")\n",
    "            \n",
    "#         return Success(text) if result.returncode == 0 else Failure(text)\n",
    "    \n",
    "\n",
    "class SpeedTest(TaskDispatcher):\n",
    "    def __init__(self, num_tests, delay, *args, **kwargs):\n",
    "        base_params = {k: kwargs[k] for k in ['name'] if k in kwargs}\n",
    "        \n",
    "        # Pass the remaining arguments to the parent class constructor\n",
    "        super().__init__(*args, **base_params)\n",
    "        self.linux_instance = SpeedTestLinuxImplementation(name=self.name, num_tests = num_tests, delay = delay)\n",
    "        \n",
    "\n",
    "    def dispatch(self, node: Node) -> Task:\n",
    "        if node.architecture in {Architecture.LINUX_AMD64, Architecture.LINUX_ARM64}:\n",
    "            return self.linux_instance\n",
    "\n",
    "        raise NotImplementedError(\n",
    "            f\"SpeedTest is not implemented for architecture: {node.architecture}\"\n",
    "        )\n",
    "\n",
    "\n",
    "class SpeedTestLinuxImplementation(Task):\n",
    "    requirements = [\"pip install speedtest-cli\", \"pip install schedule\"]\n",
    "\n",
    "    def __init__(self, num_tests, delay, *args, **kwargs):\n",
    "        self.num_tests = num_tests\n",
    "        self.delay = delay\n",
    "        base_params = {k: kwargs[k] for k in ['name'] if k in kwargs}\n",
    "        \n",
    "        # Pass the remaining arguments to the parent class constructor\n",
    "        super().__init__(*args, **base_params)\n",
    "\n",
    "    def run(self):\n",
    "        processes = []\n",
    "        results = []\n",
    "        #raspi is 7 hours ahead\n",
    "        desired_time = datetime.datetime(2024, 6, 14, 1, 28, 0)  # Example: June 12, 2024\n",
    "        current_time = datetime.datetime.now()\n",
    "        time_difference = desired_time - current_time\n",
    "        wait_time_seconds = time_difference.total_seconds()\n",
    "        if wait_time_seconds > 0:\n",
    "            time.sleep(wait_time_seconds)\n",
    "       \n",
    "\n",
    "        # Start all processes concurrently\n",
    "        for _ in range(self.num_tests):\n",
    "            start_time = time.time()\n",
    "            process = subprocess.Popen([\"speedtest-cli\", \"--simple\", \"--secure\"], stdout=subprocess.PIPE, stderr=subprocess.PIPE)\n",
    "            #result = subprocess_run([\"speedtest-cli\", \"--simple\", \"--secure\"])\n",
    "            processes.append((process, start_time))\n",
    "            #processes.append((result, start_time))\n",
    "            time.sleep(self.delay)  # Delay between starting each test\n",
    "\n",
    "\n",
    "        # Collect results from all processes\n",
    "        for process, start_time in processes:\n",
    "            stdout, stderr = process.communicate()\n",
    "            end_time = time.time()\n",
    "            elapsed_time = end_time - start_time\n",
    "\n",
    "            text = \"\"\n",
    "            if stdout:\n",
    "                text = stdout.decode(\"utf-8\") + \"\\n\"\n",
    "            if stderr:\n",
    "                text += stderr.decode(\"utf-8\")\n",
    "            \n",
    "            result = Success(text) if process.returncode == 0 else Failure(text)\n",
    "            time_started = datetime.datetime.fromtimestamp(start_time).strftime('%Y-%m-%d %H:%M:%S')\n",
    "            result_with_time = f\"{result} Time taken: {elapsed_time:.2f} seconds Time started: {time_started}\\n\"\n",
    "            #results.append(result_with_time)\n",
    "            results.append(result_with_time)\n",
    "        self.job_executed = True\n",
    "        return results\n",
    "        \n",
    "\n",
    "\n",
    "\n"
   ]
  },
  {
   "cell_type": "markdown",
   "metadata": {},
   "source": [
    "Now, let's create a pipeline. We would like to start the tcpdump (network traffic capturing), then do speedtest several times, then stop capturing the data and upload it to some temporary file storage (we chose `https://file.io` website for this, and no, they haven't paid us for the advertisement)."
   ]
  },
  {
   "cell_type": "code",
   "execution_count": 17,
   "metadata": {},
   "outputs": [],
   "source": [
    "pipeline = (\n",
    "    Pipeline()\n",
    "    # .then(StartCapture(filepath=\"/tmp/capture.pcap\", name=\"capture\"))\n",
    ")\n",
    "\n",
    "pipeline.then(SpeedTest(num_tests = 30, delay = 1))\n",
    "\n",
    "pipeline = (\n",
    "    pipeline\n",
    "    # .then(StopNamedCapture(start_capture_task_name=\"capture\"))\n",
    "    # .then(UploadToFileIO(filepath=\"/tmp/capture.pcap\", expires=\"1d\"))\n",
    ")"
   ]
  },
  {
   "cell_type": "markdown",
   "metadata": {},
   "source": [
    "After we decided what our pipeline would look like, we need to connect to some netunicorn instance and get nodes we will run our pipeline on. If you have `.env` file with credential in the folder, we need to read it, and then try to read needed parameters from environment variables.\n",
    "\n",
    "If no `.env` file or parameters in environment variables are provided, let's assume you're working with local installation of netunicorn with the default endpoint address and credentials. If this is not the case, feel free to modify the next variables."
   ]
  },
  {
   "cell_type": "code",
   "execution_count": 18,
   "metadata": {
    "tags": []
   },
   "outputs": [],
   "source": [
    "# API connection endpoint\n",
    "NETUNICORN_ENDPOINT = 'https://pinot.cs.ucsb.edu/netunicorn/'\n",
    "# user login\n",
    "NETUNICORN_LOGIN = 'egalanua'\n",
    "# user password\n",
    "NETUNICORN_PASSWORD = 'nZ309yM5MgZi'\n"
   ]
  },
  {
   "cell_type": "markdown",
   "metadata": {},
   "source": [
    "Connect to the instance and verify that it's healthy."
   ]
  },
  {
   "cell_type": "code",
   "execution_count": 19,
   "metadata": {
    "tags": []
   },
   "outputs": [
    {
     "data": {
      "text/plain": [
       "True"
      ]
     },
     "execution_count": 19,
     "metadata": {},
     "output_type": "execute_result"
    }
   ],
   "source": [
    "client = RemoteClient(endpoint=NETUNICORN_ENDPOINT, login=NETUNICORN_LOGIN, password=NETUNICORN_PASSWORD)\n",
    "client.healthcheck()"
   ]
  },
  {
   "cell_type": "markdown",
   "metadata": {},
   "source": [
    "Great!\n",
    "\n",
    "Now, let's ask for some nodes. For demonstration purposes we will take some nodes from our infrastructures that have names like `raspi-blablabla` (look at the filter function below). If you have local installation, let's take a single node. If you use your own infrastructure, feel free to modify the example."
   ]
  },
  {
   "cell_type": "code",
   "execution_count": 20,
   "metadata": {},
   "outputs": [
    {
     "data": {
      "text/plain": [
       "[<Uncountable node pool with next node template: [aws-fargate-A-egalanua-, aws-fargate-B-egalanua-, aws-fargate-ARM64-egalanua-]>, [raspi-e4:5f:01:a7:b1:c1, raspi-e4:5f:01:9c:ca:3a]]"
      ]
     },
     "execution_count": 20,
     "metadata": {},
     "output_type": "execute_result"
    }
   ],
   "source": [
    "nodes = client.get_nodes()\n",
    "nodes"
   ]
  },
  {
   "cell_type": "code",
   "execution_count": 21,
   "metadata": {},
   "outputs": [
    {
     "data": {
      "text/plain": [
       "[raspi-e4:5f:01:9c:ca:3a]"
      ]
     },
     "execution_count": 21,
     "metadata": {},
     "output_type": "execute_result"
    }
   ],
   "source": [
    "# switch for showing our infrastructure vs you doing it locally on other nodes\n",
    "# if os.environ.get('NETUNICORN_ENDPOINT', 'http://localhost:26611') != 'http://localhost:26611':\n",
    "#     working_nodes = nodes.filter(lambda node: node.name.startswith(\"raspi\")).take(5)\n",
    "# else:\n",
    "#     working_nodes = nodes.take(1)\n",
    "working_nodes = nodes.filter(lambda node: node.name.startswith(\"raspi-e4:5f:01:9c:ca:3a\")).take(1)\n",
    "working_nodes\n",
    "#c1 38"
   ]
  },
  {
   "cell_type": "markdown",
   "metadata": {},
   "source": [
    "Afterwards, we need to create the experiment -- let's assign the same pipeline to all nodes!"
   ]
  },
  {
   "cell_type": "code",
   "execution_count": 22,
   "metadata": {},
   "outputs": [],
   "source": [
    "experiment123 = Experiment().map(pipeline, working_nodes)"
   ]
  },
  {
   "cell_type": "code",
   "execution_count": 23,
   "metadata": {},
   "outputs": [
    {
     "data": {
      "text/plain": [
       " - Deployment: Node=raspi-e4:5f:01:9c:ca:3a, executor_id=, prepared=False, error=None"
      ]
     },
     "execution_count": 23,
     "metadata": {},
     "output_type": "execute_result"
    }
   ],
   "source": [
    "experiment123"
   ]
  },
  {
   "cell_type": "markdown",
   "metadata": {},
   "source": [
    "Now, we defined the pipeline and the experiment, so it's time to prepare it..."
   ]
  },
  {
   "cell_type": "code",
   "execution_count": 24,
   "metadata": {},
   "outputs": [
    {
     "data": {
      "text/plain": [
       "'speed_test_example'"
      ]
     },
     "execution_count": 24,
     "metadata": {},
     "output_type": "execute_result"
    }
   ],
   "source": [
    "experiment_label123 = \"speed_test_example\"\n",
    "try:\n",
    "    client.delete_experiment(experiment_label123)\n",
    "except RemoteClientException:\n",
    "    pass\n",
    "\n",
    "client.prepare_experiment(experiment123, experiment_label123)"
   ]
  },
  {
   "cell_type": "markdown",
   "metadata": {},
   "source": [
    "...and wait while it's compiling and distributing to nodes."
   ]
  },
  {
   "cell_type": "code",
   "execution_count": 25,
   "metadata": {},
   "outputs": [
    {
     "name": "stdout",
     "output_type": "stream",
     "text": [
      "ExperimentStatus.PREPARING\n",
      "ExperimentStatus.PREPARING\n",
      "ExperimentStatus.PREPARING\n",
      "ExperimentStatus.PREPARING\n",
      "ExperimentStatus.READY\n"
     ]
    }
   ],
   "source": [
    "import time\n",
    "while True:\n",
    "    info = client.get_experiment_status(experiment_label123)\n",
    "    print(info.status)\n",
    "    if info.status == ExperimentStatus.READY:\n",
    "        break\n",
    "    time.sleep(20)"
   ]
  },
  {
   "cell_type": "markdown",
   "metadata": {},
   "source": [
    "As soon as the experiment is READY, let's start it."
   ]
  },
  {
   "cell_type": "code",
   "execution_count": 26,
   "metadata": {},
   "outputs": [
    {
     "data": {
      "text/plain": [
       "'speed_test_example'"
      ]
     },
     "execution_count": 26,
     "metadata": {},
     "output_type": "execute_result"
    }
   ],
   "source": [
    "client.start_execution(experiment_label123)"
   ]
  },
  {
   "cell_type": "code",
   "execution_count": 27,
   "metadata": {},
   "outputs": [
    {
     "name": "stdout",
     "output_type": "stream",
     "text": [
      "ExperimentStatus.RUNNING\n",
      "ExperimentStatus.RUNNING\n",
      "ExperimentStatus.RUNNING\n",
      "ExperimentStatus.RUNNING\n",
      "ExperimentStatus.RUNNING\n",
      "ExperimentStatus.RUNNING\n",
      "ExperimentStatus.RUNNING\n",
      "ExperimentStatus.RUNNING\n",
      "ExperimentStatus.RUNNING\n",
      "ExperimentStatus.RUNNING\n",
      "ExperimentStatus.RUNNING\n",
      "ExperimentStatus.RUNNING\n",
      "ExperimentStatus.RUNNING\n",
      "ExperimentStatus.RUNNING\n",
      "ExperimentStatus.RUNNING\n",
      "ExperimentStatus.RUNNING\n",
      "ExperimentStatus.FINISHED\n"
     ]
    }
   ],
   "source": [
    "while True:\n",
    "    info = client.get_experiment_status(experiment_label123)\n",
    "    print(info.status)\n",
    "    if info.status != ExperimentStatus.RUNNING:\n",
    "        break\n",
    "    time.sleep(10)"
   ]
  },
  {
   "cell_type": "markdown",
   "metadata": {},
   "source": [
    "If (we hope in your case too) the experiment is finished, we can explore the resulting object with execution information, such as errors, results of execution, and raw logs of all tasks in each deployment. "
   ]
  },
  {
   "cell_type": "code",
   "execution_count": 28,
   "metadata": {
    "tags": []
   },
   "outputs": [
    {
     "name": "stdout",
     "output_type": "stream",
     "text": [
      "Node name: raspi-e4:5f:01:9c:ca:3a\n",
      "Error: None\n",
      "Result is: <class 'returns.result.Success'>\n",
      "<Success: defaultdict(<class 'list'>, {'a64c1df2-9de2-43ad-8040-e8fea4274e8f': [<Success: ['<Success: Ping: 18.76 ms\\nDownload: 4.70 Mbit/s\\nUpload: 6.80 Mbit/s\\n\\n> Time taken: 60.80 seconds Time started: 2024-06-14 18:06:54\\n', '<Success: Ping: 8.724 ms\\nDownload: 16.15 Mbit/s\\nUpload: 5.35 Mbit/s\\n\\n> Time taken: 59.80 seconds Time started: 2024-06-14 18:06:55\\n', '<Success: Ping: 38.871 ms\\nDownload: 12.75 Mbit/s\\nUpload: 5.66 Mbit/s\\n\\n> Time taken: 62.35 seconds Time started: 2024-06-14 18:06:56\\n', '<Success: Ping: 16.812 ms\\nDownload: 5.27 Mbit/s\\nUpload: 3.16 Mbit/s\\n\\n> Time taken: 61.34 seconds Time started: 2024-06-14 18:06:57\\n', '<Success: Ping: 247.236 ms\\nDownload: 3.20 Mbit/s\\nUpload: 2.47 Mbit/s\\n\\n> Time taken: 74.25 seconds Time started: 2024-06-14 18:06:58\\n', '<Success: Ping: 27.563 ms\\nDownload: 18.64 Mbit/s\\nUpload: 7.38 Mbit/s\\n\\n> Time taken: 73.25 seconds Time started: 2024-06-14 18:06:59\\n', '<Success: Ping: 457.371 ms\\nDownload: 5.61 Mbit/s\\nUpload: 1.96 Mbit/s\\n\\n> Time taken: 72.49 seconds Time started: 2024-06-14 18:07:00\\n', '<Success: Ping: 417.889 ms\\nDownload: 3.47 Mbit/s\\nUpload: 1.79 Mbit/s\\n\\n> Time taken: 74.38 seconds Time started: 2024-06-14 18:07:01\\n', '<Success: Ping: 431.335 ms\\nDownload: 2.75 Mbit/s\\nUpload: 1.93 Mbit/s\\n\\n> Time taken: 73.38 seconds Time started: 2024-06-14 18:07:02\\n', '<Success: Ping: 448.636 ms\\nDownload: 5.63 Mbit/s\\nUpload: 1.98 Mbit/s\\n\\n> Time taken: 82.16 seconds Time started: 2024-06-14 18:07:03\\n', '<Success: Ping: 421.264 ms\\nDownload: 2.66 Mbit/s\\nUpload: 2.60 Mbit/s\\n\\n> Time taken: 81.15 seconds Time started: 2024-06-14 18:07:04\\n', '<Success: Ping: 458.333 ms\\nDownload: 0.78 Mbit/s\\nUpload: 1.74 Mbit/s\\n\\n> Time taken: 99.17 seconds Time started: 2024-06-14 18:07:05\\n', '<Success: Ping: 442.214 ms\\nDownload: 2.02 Mbit/s\\nUpload: 2.38 Mbit/s\\n\\n> Time taken: 98.16 seconds Time started: 2024-06-14 18:07:06\\n', '<Success: Ping: 419.188 ms\\nDownload: 5.62 Mbit/s\\nUpload: 3.02 Mbit/s\\n\\n> Time taken: 97.16 seconds Time started: 2024-06-14 18:07:07\\n', '<Success: Ping: 449.108 ms\\nDownload: 3.86 Mbit/s\\nUpload: 2.78 Mbit/s\\n\\n> Time taken: 96.16 seconds Time started: 2024-06-14 18:07:08\\n', '<Success: Ping: 456.959 ms\\nDownload: 1.69 Mbit/s\\nUpload: 2.42 Mbit/s\\n\\n> Time taken: 95.16 seconds Time started: 2024-06-14 18:07:09\\n', '<Success: Ping: 421.025 ms\\nDownload: 1.58 Mbit/s\\nUpload: 2.54 Mbit/s\\n\\n> Time taken: 94.15 seconds Time started: 2024-06-14 18:07:10\\n', '<Success: Ping: 1004.412 ms\\nDownload: 6.52 Mbit/s\\nUpload: 5.03 Mbit/s\\n\\n> Time taken: 93.85 seconds Time started: 2024-06-14 18:07:11\\n', '<Success: Ping: 633.442 ms\\nDownload: 1.28 Mbit/s\\nUpload: 5.36 Mbit/s\\n\\n> Time taken: 97.07 seconds Time started: 2024-06-14 18:07:12\\n', '<Success: Ping: 453.877 ms\\nDownload: 1.25 Mbit/s\\nUpload: 3.56 Mbit/s\\n\\n> Time taken: 96.07 seconds Time started: 2024-06-14 18:07:13\\n', '<Success: Ping: 609.565 ms\\nDownload: 1.93 Mbit/s\\nUpload: 1.92 Mbit/s\\n\\n> Time taken: 95.06 seconds Time started: 2024-06-14 18:07:14\\n', '<Success: Ping: 621.447 ms\\nDownload: 2.22 Mbit/s\\nUpload: 1.91 Mbit/s\\n\\n> Time taken: 94.06 seconds Time started: 2024-06-14 18:07:15\\n', '<Success: Ping: 622.742 ms\\nDownload: 1.60 Mbit/s\\nUpload: 4.17 Mbit/s\\n\\n> Time taken: 93.68 seconds Time started: 2024-06-14 18:07:16\\n', '<Success: Ping: 665.345 ms\\nDownload: 4.58 Mbit/s\\nUpload: 3.19 Mbit/s\\n\\n> Time taken: 92.67 seconds Time started: 2024-06-14 18:07:17\\n', '<Success: Ping: 484.704 ms\\nDownload: 2.47 Mbit/s\\nUpload: 2.42 Mbit/s\\n\\n> Time taken: 91.67 seconds Time started: 2024-06-14 18:07:18\\n', '<Success: Ping: 547.977 ms\\nDownload: 4.40 Mbit/s\\nUpload: 3.03 Mbit/s\\n\\n> Time taken: 90.67 seconds Time started: 2024-06-14 18:07:19\\n', '<Success: Ping: 851.303 ms\\nDownload: 1.84 Mbit/s\\nUpload: 11.69 Mbit/s\\n\\n> Time taken: 96.35 seconds Time started: 2024-06-14 18:07:20\\n', '<Success: Ping: 558.776 ms\\nDownload: 5.81 Mbit/s\\nUpload: 4.49 Mbit/s\\n\\n> Time taken: 95.35 seconds Time started: 2024-06-14 18:07:21\\n', '<Success: Ping: 905.834 ms\\nDownload: 9.24 Mbit/s\\nUpload: 18.64 Mbit/s\\n\\n> Time taken: 99.15 seconds Time started: 2024-06-14 18:07:22\\n', '<Success: Ping: 830.83 ms\\nDownload: 4.77 Mbit/s\\nUpload: 21.93 Mbit/s\\n\\n> Time taken: 100.79 seconds Time started: 2024-06-14 18:07:23\\n']>]})>\n",
      "Parsed configuration: Gateway located on https://pinot.cs.ucsb.edu/netunicorn/gateway\n",
      "Current directory: /\n",
      "Execution graph loaded from a local file, executing.\n",
      "Execution is finished, start reporting results.\n",
      "\n"
     ]
    }
   ],
   "source": [
    "from returns.pipeline import is_successful\n",
    "from returns.result import Result\n",
    "\n",
    "for report in info.execution_result:\n",
    "    print(f\"Node name: {report.node.name}\")\n",
    "    print(f\"Error: {report.error}\")\n",
    "\n",
    "    result, log = report.result  # report stores results of execution and corresponding log\n",
    "    \n",
    "    # result is a returns.result.Result object, could be Success of Failure\n",
    "    print(f\"Result is: {type(result)}\")\n",
    "    if isinstance(result, Result):\n",
    "        print(result)\n",
    "        # .unwrap() if is_successful(result) else result\n",
    "        # for key, value in data.items():\n",
    "        #     print(f\"{key}: {value}\")\n",
    "\n",
    "    # we also can explore logs\n",
    "    for line in log:\n",
    "        print(line.strip())\n",
    "    print()"
   ]
  },
  {
   "cell_type": "markdown",
   "metadata": {},
   "source": [
    "As you see, in this example we successfully measured speed test several times from our nodes, captured the traffic and uploaded the data to the cloud. Now the only thing left is to explore it and draw some conclusions, but we will leave this to you. :)\n",
    "\n",
    "Please, visit the https://netunicorn.cs.ucsb.edu website if you look for additional documentation or information regarding this platform, usage, and API."
   ]
  },
  {
   "cell_type": "code",
   "execution_count": null,
   "metadata": {},
   "outputs": [],
   "source": []
  },
  {
   "cell_type": "code",
   "execution_count": null,
   "metadata": {},
   "outputs": [],
   "source": []
  }
 ],
 "metadata": {
  "kernelspec": {
   "display_name": "Python 3 (ipykernel)",
   "language": "python",
   "name": "python3"
  },
  "language_info": {
   "codemirror_mode": {
    "name": "ipython",
    "version": 3
   },
   "file_extension": ".py",
   "mimetype": "text/x-python",
   "name": "python",
   "nbconvert_exporter": "python",
   "pygments_lexer": "ipython3",
   "version": "3.11.7"
  }
 },
 "nbformat": 4,
 "nbformat_minor": 4
}
